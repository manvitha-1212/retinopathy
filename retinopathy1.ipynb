{
 "cells": [
  {
   "cell_type": "code",
   "execution_count": 1,
   "metadata": {
    "_cell_guid": "b1076dfc-b9ad-4769-8c92-a6c4dae69d19",
    "_uuid": "8f2839f25d086af736a60e9eeb907d3b93b6e0e5",
    "execution": {
     "iopub.execute_input": "2021-07-06T18:13:13.735929Z",
     "iopub.status.busy": "2021-07-06T18:13:13.735479Z",
     "iopub.status.idle": "2021-07-06T18:13:20.195729Z",
     "shell.execute_reply": "2021-07-06T18:13:20.194427Z",
     "shell.execute_reply.started": "2021-07-06T18:13:13.735845Z"
    }
   },
   "outputs": [],
   "source": [
    "import tensorflow as tf\n",
    "import matplotlib.pyplot as plt\n",
    "import os,sys\n",
    "%matplotlib inline\n",
    "from tensorflow.keras.preprocessing.image import ImageDataGenerator,load_img,img_to_array\n",
    "from tensorflow.keras.layers import Dense, Input, Flatten, Dropout, Conv2D\n",
    "from tensorflow.keras.layers import BatchNormalization, Activation, MaxPooling2D\n",
    "from tensorflow.keras.models import Model\n",
    "from tensorflow.keras.optimizers import Adam\n",
    "from tensorflow.keras.callbacks import ModelCheckpoint, ReduceLROnPlateau\n",
    "from tensorflow.keras.utils import plot_model\n",
    "from IPython.display import SVG, Image\n",
    "from tensorflow.image import rgb_to_grayscale\n",
    "\n",
    "from tensorflow.keras.models import Sequential\n",
    " "
   ]
  },
  {
   "cell_type": "code",
   "execution_count": 2,
   "metadata": {
    "execution": {
     "iopub.execute_input": "2021-07-06T18:13:23.104244Z",
     "iopub.status.busy": "2021-07-06T18:13:23.103875Z",
     "iopub.status.idle": "2021-07-06T18:14:21.175722Z",
     "shell.execute_reply": "2021-07-06T18:14:21.174536Z",
     "shell.execute_reply.started": "2021-07-06T18:13:23.104212Z"
    }
   },
   "outputs": [
    {
     "name": "stdout",
     "output_type": "stream",
     "text": [
      "Found 35126 images belonging to 5 classes.\n",
      "Found 566 images belonging to 5 classes.\n"
     ]
    }
   ],
   "source": [
    "img_size=224\n",
    "batch_size=64\n",
    "data_train=ImageDataGenerator(horizontal_flip=True)\n",
    "train=data_train.flow_from_directory(\"../input/diabetic-retinopathy-2015-data-colored-resized/colored_images/colored_images\",target_size=\n",
    "(224,224), batch_size=batch_size, class_mode='categorical', shuffle=True)\n",
    "datagen_validation=ImageDataGenerator(horizontal_flip=True)\n",
    "\n",
    "test=datagen_validation.flow_from_directory(\"../input/testset123/test\",target_size=\n",
    "(224,224), batch_size=batch_size, class_mode='categorical', shuffle=True)"
   ]
  },
  {
   "cell_type": "code",
   "execution_count": 3,
   "metadata": {
    "execution": {
     "iopub.execute_input": "2021-07-06T18:14:23.696270Z",
     "iopub.status.busy": "2021-07-06T18:14:23.695915Z",
     "iopub.status.idle": "2021-07-06T18:14:26.934165Z",
     "shell.execute_reply": "2021-07-06T18:14:26.932607Z",
     "shell.execute_reply.started": "2021-07-06T18:14:23.696239Z"
    }
   },
   "outputs": [],
   "source": [
    "model=Sequential()\n",
    "\n",
    "model.add(Conv2D(64,(3,3), padding='same', input_shape= (224,224,3)))\n",
    "model.add(BatchNormalization())\n",
    "model.add(Activation('relu'))\n",
    "model.add(MaxPooling2D(pool_size=(2,2)))\n",
    "model.add(Dropout(0.25))\n",
    "\n",
    "model.add(Conv2D(128,(5,5), padding='same', input_shape= (224,224,3)))\n",
    "model.add(BatchNormalization())\n",
    "model.add(Activation('relu'))\n",
    "model.add(MaxPooling2D(pool_size=(2,2)))\n",
    "model.add(Dropout(0.25))\n",
    "\n",
    "model.add(Conv2D(256,(3,3), padding='same', input_shape= (224,224,3)))\n",
    "model.add(BatchNormalization())\n",
    "model.add(Activation('relu'))\n",
    "model.add(MaxPooling2D(pool_size=(2,2)))\n",
    "model.add(Dropout(0.25))\n",
    "\n",
    "model.add(Conv2D(512,(3,3), padding='same', input_shape= (224,224,3)))\n",
    "model.add(BatchNormalization())\n",
    "model.add(Activation('relu'))\n",
    "model.add(MaxPooling2D(pool_size=(2,2)))\n",
    "model.add(Dropout(0.25))\n",
    "\n",
    "model.add(Conv2D(1024,(3,3), padding='same', input_shape= (224,224,3)))\n",
    "model.add(BatchNormalization())\n",
    "model.add(Activation('relu'))\n",
    "model.add(MaxPooling2D(pool_size=(2,2)))\n",
    "model.add(Dropout(0.25))\n",
    "\n",
    "\n",
    "model.add(Flatten())\n",
    "model.add(Dense(256))\n",
    "model.add(BatchNormalization())\n",
    "model.add(Activation('relu'))\n",
    "model.add(Dropout(0.25))\n",
    "model.add(Dense(512))\n",
    "model.add(BatchNormalization())\n",
    "model.add(Activation('relu'))\n",
    "model.add(Dropout(0.25))\n",
    "\n",
    "model.add(Dense(5, activation='softmax'))\n",
    "opt=Adam(lr=0.0005)"
   ]
  },
  {
   "cell_type": "code",
   "execution_count": 4,
   "metadata": {
    "execution": {
     "iopub.execute_input": "2021-07-06T18:14:28.653574Z",
     "iopub.status.busy": "2021-07-06T18:14:28.653186Z",
     "iopub.status.idle": "2021-07-06T18:14:28.701071Z",
     "shell.execute_reply": "2021-07-06T18:14:28.699964Z",
     "shell.execute_reply.started": "2021-07-06T18:14:28.653543Z"
    }
   },
   "outputs": [
    {
     "name": "stdout",
     "output_type": "stream",
     "text": [
      "Model: \"sequential\"\n",
      "_________________________________________________________________\n",
      "Layer (type)                 Output Shape              Param #   \n",
      "=================================================================\n",
      "conv2d (Conv2D)              (None, 224, 224, 64)      1792      \n",
      "_________________________________________________________________\n",
      "batch_normalization (BatchNo (None, 224, 224, 64)      256       \n",
      "_________________________________________________________________\n",
      "activation (Activation)      (None, 224, 224, 64)      0         \n",
      "_________________________________________________________________\n",
      "max_pooling2d (MaxPooling2D) (None, 112, 112, 64)      0         \n",
      "_________________________________________________________________\n",
      "dropout (Dropout)            (None, 112, 112, 64)      0         \n",
      "_________________________________________________________________\n",
      "conv2d_1 (Conv2D)            (None, 112, 112, 128)     204928    \n",
      "_________________________________________________________________\n",
      "batch_normalization_1 (Batch (None, 112, 112, 128)     512       \n",
      "_________________________________________________________________\n",
      "activation_1 (Activation)    (None, 112, 112, 128)     0         \n",
      "_________________________________________________________________\n",
      "max_pooling2d_1 (MaxPooling2 (None, 56, 56, 128)       0         \n",
      "_________________________________________________________________\n",
      "dropout_1 (Dropout)          (None, 56, 56, 128)       0         \n",
      "_________________________________________________________________\n",
      "conv2d_2 (Conv2D)            (None, 56, 56, 256)       295168    \n",
      "_________________________________________________________________\n",
      "batch_normalization_2 (Batch (None, 56, 56, 256)       1024      \n",
      "_________________________________________________________________\n",
      "activation_2 (Activation)    (None, 56, 56, 256)       0         \n",
      "_________________________________________________________________\n",
      "max_pooling2d_2 (MaxPooling2 (None, 28, 28, 256)       0         \n",
      "_________________________________________________________________\n",
      "dropout_2 (Dropout)          (None, 28, 28, 256)       0         \n",
      "_________________________________________________________________\n",
      "conv2d_3 (Conv2D)            (None, 28, 28, 512)       1180160   \n",
      "_________________________________________________________________\n",
      "batch_normalization_3 (Batch (None, 28, 28, 512)       2048      \n",
      "_________________________________________________________________\n",
      "activation_3 (Activation)    (None, 28, 28, 512)       0         \n",
      "_________________________________________________________________\n",
      "max_pooling2d_3 (MaxPooling2 (None, 14, 14, 512)       0         \n",
      "_________________________________________________________________\n",
      "dropout_3 (Dropout)          (None, 14, 14, 512)       0         \n",
      "_________________________________________________________________\n",
      "conv2d_4 (Conv2D)            (None, 14, 14, 1024)      4719616   \n",
      "_________________________________________________________________\n",
      "batch_normalization_4 (Batch (None, 14, 14, 1024)      4096      \n",
      "_________________________________________________________________\n",
      "activation_4 (Activation)    (None, 14, 14, 1024)      0         \n",
      "_________________________________________________________________\n",
      "max_pooling2d_4 (MaxPooling2 (None, 7, 7, 1024)        0         \n",
      "_________________________________________________________________\n",
      "dropout_4 (Dropout)          (None, 7, 7, 1024)        0         \n",
      "_________________________________________________________________\n",
      "flatten (Flatten)            (None, 50176)             0         \n",
      "_________________________________________________________________\n",
      "dense (Dense)                (None, 256)               12845312  \n",
      "_________________________________________________________________\n",
      "batch_normalization_5 (Batch (None, 256)               1024      \n",
      "_________________________________________________________________\n",
      "activation_5 (Activation)    (None, 256)               0         \n",
      "_________________________________________________________________\n",
      "dropout_5 (Dropout)          (None, 256)               0         \n",
      "_________________________________________________________________\n",
      "dense_1 (Dense)              (None, 512)               131584    \n",
      "_________________________________________________________________\n",
      "batch_normalization_6 (Batch (None, 512)               2048      \n",
      "_________________________________________________________________\n",
      "activation_6 (Activation)    (None, 512)               0         \n",
      "_________________________________________________________________\n",
      "dropout_6 (Dropout)          (None, 512)               0         \n",
      "_________________________________________________________________\n",
      "dense_2 (Dense)              (None, 5)                 2565      \n",
      "=================================================================\n",
      "Total params: 19,392,133\n",
      "Trainable params: 19,386,629\n",
      "Non-trainable params: 5,504\n",
      "_________________________________________________________________\n"
     ]
    }
   ],
   "source": [
    "model.compile(optimizer=opt, loss='categorical_crossentropy', metrics=['accuracy'])\n",
    "model.summary()"
   ]
  },
  {
   "cell_type": "code",
   "execution_count": 5,
   "metadata": {
    "execution": {
     "iopub.execute_input": "2021-07-06T18:14:29.901313Z",
     "iopub.status.busy": "2021-07-06T18:14:29.900886Z",
     "iopub.status.idle": "2021-07-06T18:47:42.920395Z",
     "shell.execute_reply": "2021-07-06T18:47:42.919201Z",
     "shell.execute_reply.started": "2021-07-06T18:14:29.901281Z"
    }
   },
   "outputs": [
    {
     "name": "stdout",
     "output_type": "stream",
     "text": [
      "Epoch 1/10\n",
      "548/548 [==============================] - 374s 670ms/step - loss: 0.9894 - accuracy: 0.7050 - val_loss: 1.8276 - val_accuracy: 0.4117\n",
      "Epoch 2/10\n",
      "548/548 [==============================] - 176s 321ms/step - loss: 0.9034 - accuracy: 0.7304\n",
      "Epoch 3/10\n",
      "548/548 [==============================] - 177s 323ms/step - loss: 0.8948 - accuracy: 0.7294\n",
      "Epoch 4/10\n",
      "548/548 [==============================] - 178s 324ms/step - loss: 0.8795 - accuracy: 0.7325\n",
      "Epoch 5/10\n",
      "548/548 [==============================] - 179s 326ms/step - loss: 0.8757 - accuracy: 0.7310\n",
      "Epoch 6/10\n",
      "548/548 [==============================] - 179s 326ms/step - loss: 0.8579 - accuracy: 0.7387\n",
      "Epoch 7/10\n",
      "548/548 [==============================] - 180s 328ms/step - loss: 0.8578 - accuracy: 0.7352\n",
      "Epoch 8/10\n",
      "548/548 [==============================] - 182s 332ms/step - loss: 0.8572 - accuracy: 0.7362\n",
      "Epoch 9/10\n",
      "548/548 [==============================] - 183s 334ms/step - loss: 0.8586 - accuracy: 0.7357\n",
      "Epoch 10/10\n",
      "548/548 [==============================] - 183s 334ms/step - loss: 0.8619 - accuracy: 0.7330\n"
     ]
    }
   ],
   "source": [
    "epochs=10\n",
    "steps_per_epoch=train.n//train.batch_size\n",
    "steps_per_epoch\n",
    "validation_steps=train.n//test.batch_size\n",
    "history= model.fit(x=train,steps_per_epoch=steps_per_epoch,epochs=epochs,validation_data=test,validation_steps=validation_steps)"
   ]
  },
  {
   "cell_type": "code",
   "execution_count": 32,
   "metadata": {
    "execution": {
     "iopub.execute_input": "2021-07-06T19:08:13.559918Z",
     "iopub.status.busy": "2021-07-06T19:08:13.559452Z",
     "iopub.status.idle": "2021-07-06T19:08:13.580684Z",
     "shell.execute_reply": "2021-07-06T19:08:13.579389Z",
     "shell.execute_reply.started": "2021-07-06T19:08:13.559873Z"
    }
   },
   "outputs": [],
   "source": [
    "import numpy as np\n",
    "from tensorflow.keras.applications.resnet50 import preprocess_input\n",
    "img=load_img('../input/diabetic-retinopathy-2015-data-colored-resized/colored_images/colored_images/Moderate/10112_left.png',target_size=(224,224))\n",
    "x=img_to_array(img)\n",
    "x=x/225\n",
    "x=np.expand_dims(x,axis=0)\n",
    "x=preprocess_input(x)"
   ]
  },
  {
   "cell_type": "code",
   "execution_count": 33,
   "metadata": {
    "execution": {
     "iopub.execute_input": "2021-07-06T19:08:15.350696Z",
     "iopub.status.busy": "2021-07-06T19:08:15.350178Z",
     "iopub.status.idle": "2021-07-06T19:08:15.409863Z",
     "shell.execute_reply": "2021-07-06T19:08:15.408711Z",
     "shell.execute_reply.started": "2021-07-06T19:08:15.350620Z"
    }
   },
   "outputs": [],
   "source": [
    "pr=model.predict(x)"
   ]
  },
  {
   "cell_type": "code",
   "execution_count": 34,
   "metadata": {
    "execution": {
     "iopub.execute_input": "2021-07-06T19:08:16.606044Z",
     "iopub.status.busy": "2021-07-06T19:08:16.605684Z",
     "iopub.status.idle": "2021-07-06T19:08:16.616019Z",
     "shell.execute_reply": "2021-07-06T19:08:16.614628Z",
     "shell.execute_reply.started": "2021-07-06T19:08:16.606012Z"
    }
   },
   "outputs": [
    {
     "data": {
      "text/plain": [
       "2"
      ]
     },
     "execution_count": 34,
     "metadata": {},
     "output_type": "execute_result"
    }
   ],
   "source": [
    "np.argmax(pr)"
   ]
  },
  {
   "cell_type": "code",
   "execution_count": 35,
   "metadata": {
    "execution": {
     "iopub.execute_input": "2021-07-06T19:08:17.744172Z",
     "iopub.status.busy": "2021-07-06T19:08:17.743793Z",
     "iopub.status.idle": "2021-07-06T19:08:18.052482Z",
     "shell.execute_reply": "2021-07-06T19:08:18.048152Z",
     "shell.execute_reply.started": "2021-07-06T19:08:17.744140Z"
    }
   },
   "outputs": [
    {
     "data": {
      "text/plain": [
       "<matplotlib.image.AxesImage at 0x7f4ad01aa690>"
      ]
     },
     "execution_count": 35,
     "metadata": {},
     "output_type": "execute_result"
    },
    {
     "data": {
      "image/png": "[encoded data removed]",
      "text/plain": [
       "<Figure size 432x288 with 1 Axes>"
      ]
     },
     "metadata": {
      "needs_background": "light"
     },
     "output_type": "display_data"
    }
   ],
   "source": [
    "plt.imshow(img)"
   ]
  },
  {
   "cell_type": "code",
   "execution_count": 36,
   "metadata": {
    "execution": {
     "iopub.execute_input": "2021-07-06T19:08:20.001219Z",
     "iopub.status.busy": "2021-07-06T19:08:20.000818Z",
     "iopub.status.idle": "2021-07-06T19:08:20.012335Z",
     "shell.execute_reply": "2021-07-06T19:08:20.011095Z",
     "shell.execute_reply.started": "2021-07-06T19:08:20.001188Z"
    }
   },
   "outputs": [
    {
     "name": "stdout",
     "output_type": "stream",
     "text": [
      "Mild\n",
      "Proliferate_DR\n",
      "Moderate\n",
      "No_DR\n",
      "Severe\n"
     ]
    }
   ],
   "source": [
    "\n",
    "dir=os.listdir(\"../input/diabetic-retinopathy-2015-data-colored-resized/colored_images/colored_images\")\n",
    "for expression in dir:\n",
    "     print(expression);"
   ]
  },
  {
   "cell_type": "code",
   "execution_count": null,
   "metadata": {},
   "outputs": [],
   "source": []
  }
 ],
 "metadata": {
  "kernelspec": {
   "display_name": "Python 3",
   "language": "python",
   "name": "python3"
  },
  "language_info": {
   "codemirror_mode": {
    "name": "ipython",
    "version": 3
   },
   "file_extension": ".py",
   "mimetype": "text/x-python",
   "name": "python",
   "nbconvert_exporter": "python",
   "pygments_lexer": "ipython3",
   "version": "3.7.6"
  }
 },
 "nbformat": 4,
 "nbformat_minor": 4
}
